{
 "cells": [
  {
   "cell_type": "markdown",
   "metadata": {},
   "source": [
    "# Linear Regression : Predict Life Expectancy from BMI\n"
   ]
  },
  {
   "cell_type": "markdown",
   "metadata": {},
   "source": [
    "<font color=blue>__ This notebook covers the steps involved in building a regression model. We will work on the BMI Life Expectancy Dataset. The dataset is in file called bmi_life_expectancy_data.csv . It has three columns : Country, Life Expectancy and BMI __ </font>"
   ]
  },
  {
   "cell_type": "markdown",
   "metadata": {},
   "source": [
    "### The following cell imports the required libraries "
   ]
  },
  {
   "cell_type": "code",
   "execution_count": 16,
   "metadata": {
    "collapsed": true
   },
   "outputs": [],
   "source": [
    "import pandas as pd #Using pandas library for data handling and manipulation \n",
    "from sklearn.linear_model import LinearRegression # We use the Linear Regression classifier from the scikit lean library\n",
    "from matplotlib import pyplot as plt #required for plotting results"
   ]
  },
  {
   "cell_type": "markdown",
   "metadata": {},
   "source": [
    "### Reading data using pandas"
   ]
  },
  {
   "cell_type": "code",
   "execution_count": 17,
   "metadata": {},
   "outputs": [
    {
     "data": {
      "text/html": [
       "<div>\n",
       "<style>\n",
       "    .dataframe thead tr:only-child th {\n",
       "        text-align: right;\n",
       "    }\n",
       "\n",
       "    .dataframe thead th {\n",
       "        text-align: left;\n",
       "    }\n",
       "\n",
       "    .dataframe tbody tr th {\n",
       "        vertical-align: top;\n",
       "    }\n",
       "</style>\n",
       "<table border=\"1\" class=\"dataframe\">\n",
       "  <thead>\n",
       "    <tr style=\"text-align: right;\">\n",
       "      <th></th>\n",
       "      <th>Country</th>\n",
       "      <th>Life expectancy</th>\n",
       "      <th>BMI</th>\n",
       "    </tr>\n",
       "  </thead>\n",
       "  <tbody>\n",
       "    <tr>\n",
       "      <th>0</th>\n",
       "      <td>Afghanistan</td>\n",
       "      <td>52.8</td>\n",
       "      <td>20.62058</td>\n",
       "    </tr>\n",
       "    <tr>\n",
       "      <th>1</th>\n",
       "      <td>Albania</td>\n",
       "      <td>76.8</td>\n",
       "      <td>26.44657</td>\n",
       "    </tr>\n",
       "    <tr>\n",
       "      <th>2</th>\n",
       "      <td>Algeria</td>\n",
       "      <td>75.5</td>\n",
       "      <td>24.59620</td>\n",
       "    </tr>\n",
       "    <tr>\n",
       "      <th>3</th>\n",
       "      <td>Andorra</td>\n",
       "      <td>84.6</td>\n",
       "      <td>27.63048</td>\n",
       "    </tr>\n",
       "    <tr>\n",
       "      <th>4</th>\n",
       "      <td>Angola</td>\n",
       "      <td>56.7</td>\n",
       "      <td>22.25083</td>\n",
       "    </tr>\n",
       "    <tr>\n",
       "      <th>5</th>\n",
       "      <td>Armenia</td>\n",
       "      <td>72.3</td>\n",
       "      <td>25.35542</td>\n",
       "    </tr>\n",
       "    <tr>\n",
       "      <th>6</th>\n",
       "      <td>Australia</td>\n",
       "      <td>81.6</td>\n",
       "      <td>27.56373</td>\n",
       "    </tr>\n",
       "    <tr>\n",
       "      <th>7</th>\n",
       "      <td>Austria</td>\n",
       "      <td>80.4</td>\n",
       "      <td>26.46741</td>\n",
       "    </tr>\n",
       "    <tr>\n",
       "      <th>8</th>\n",
       "      <td>Azerbaijan</td>\n",
       "      <td>69.2</td>\n",
       "      <td>25.65117</td>\n",
       "    </tr>\n",
       "    <tr>\n",
       "      <th>9</th>\n",
       "      <td>Bahamas</td>\n",
       "      <td>72.2</td>\n",
       "      <td>27.24594</td>\n",
       "    </tr>\n",
       "  </tbody>\n",
       "</table>\n",
       "</div>"
      ],
      "text/plain": [
       "       Country  Life expectancy       BMI\n",
       "0  Afghanistan             52.8  20.62058\n",
       "1      Albania             76.8  26.44657\n",
       "2      Algeria             75.5  24.59620\n",
       "3      Andorra             84.6  27.63048\n",
       "4       Angola             56.7  22.25083\n",
       "5      Armenia             72.3  25.35542\n",
       "6    Australia             81.6  27.56373\n",
       "7      Austria             80.4  26.46741\n",
       "8   Azerbaijan             69.2  25.65117\n",
       "9      Bahamas             72.2  27.24594"
      ]
     },
     "execution_count": 17,
     "metadata": {},
     "output_type": "execute_result"
    }
   ],
   "source": [
    "bmi_life_data = pd.read_csv(\"bmi_life_expectancy_data.csv\")\n",
    "bmi_life_data.head(10) #show the first 10 rows"
   ]
  },
  {
   "cell_type": "markdown",
   "metadata": {},
   "source": [
    "### From the above, we can observe the first 10 rows of the dat"
   ]
  },
  {
   "cell_type": "markdown",
   "metadata": {},
   "source": [
    "### Forming a Linear Regression classifier using sklearn"
   ]
  },
  {
   "cell_type": "code",
   "execution_count": 8,
   "metadata": {},
   "outputs": [
    {
     "name": "stdout",
     "output_type": "stream",
     "text": [
      "LinearRegression(copy_X=True, fit_intercept=True, n_jobs=1, normalize=False)\n"
     ]
    }
   ],
   "source": [
    "bmi_life_model = LinearRegression()\n",
    "print(bmi_life_model)"
   ]
  },
  {
   "cell_type": "markdown",
   "metadata": {},
   "source": [
    "### Building the Regression Model : Life Expectancy vs BMI"
   ]
  },
  {
   "cell_type": "code",
   "execution_count": 10,
   "metadata": {},
   "outputs": [
    {
     "data": {
      "text/plain": [
       "LinearRegression(copy_X=True, fit_intercept=True, n_jobs=1, normalize=False)"
      ]
     },
     "execution_count": 10,
     "metadata": {},
     "output_type": "execute_result"
    }
   ],
   "source": [
    "bmi_life_model.fit(bmi_life_data[['BMI']], bmi_life_data[['Life expectancy']])"
   ]
  },
  {
   "cell_type": "markdown",
   "metadata": {},
   "source": [
    "### Making a prediction"
   ]
  },
  {
   "cell_type": "code",
   "execution_count": 13,
   "metadata": {},
   "outputs": [
    {
     "name": "stdout",
     "output_type": "stream",
     "text": [
      "[[ 60.77478931]]\n"
     ]
    }
   ],
   "source": [
    "laos_life_exp = bmi_life_model.predict(21.07931)\n",
    "print(laos_life_exp) #predicts that for a BMI of 21.07931, life expectancy is 60 years"
   ]
  },
  {
   "cell_type": "markdown",
   "metadata": {},
   "source": [
    "### Evaluation of fitted model : Coeffiient of determination (R^2 of prediction)"
   ]
  },
  {
   "cell_type": "code",
   "execution_count": 15,
   "metadata": {},
   "outputs": [
    {
     "data": {
      "text/plain": [
       "0.45162817654196463"
      ]
     },
     "execution_count": 15,
     "metadata": {},
     "output_type": "execute_result"
    }
   ],
   "source": [
    "bmi_life_model.score(bmi_life_data[['BMI']], bmi_life_data[['Life expectancy']])"
   ]
  },
  {
   "cell_type": "code",
   "execution_count": 20,
   "metadata": {},
   "outputs": [
    {
     "data": {
      "text/plain": [
       "array([ 52.8 ,  76.8 ,  75.5 ,  84.6 ,  56.7 ,  72.3 ,  81.6 ,  80.4 ,\n",
       "        69.2 ,  72.2 ,  68.3 ,  75.3 ,  70.  ,  79.6 ,  70.7 ,  59.7 ,\n",
       "        70.7 ,  71.2 ,  77.5 ,  53.2 ,  73.2 ,  73.2 ,  58.  ,  59.1 ,\n",
       "        66.1 ,  56.6 ,  80.8 ,  70.4 ,  54.3 ,  78.5 ,  73.4 ,  76.2 ,\n",
       "        67.1 ,  57.5 ,  58.8 ,  79.8 ,  55.4 ,  76.2 ,  77.6 ,  80.  ,\n",
       "        78.9 ,  61.8 ,  74.7 ,  70.2 ,  73.7 ,  60.1 ,  74.2 ,  60.  ,\n",
       "        64.9 ,  79.6 ,  81.1 ,  75.11,  61.7 ,  65.7 ,  71.8 ,  80.  ,\n",
       "        62.  ,  80.2 ,  70.3 ,  70.8 ,  71.2 ,  57.1 ,  53.6 ,  65.  ,\n",
       "        61.  ,  71.8 ,  73.9 ,  82.4 ,  64.7 ,  69.4 ,  73.1 ,  66.6 ,\n",
       "        80.1 ,  80.6 ,  75.1 ,  82.5 ,  76.9 ,  67.1 ,  60.8 ,  77.3 ,\n",
       "        72.4 ,  44.5 ,  59.9 ,  75.6 ,  72.1 ,  81.  ,  74.5 ,  62.2 ,\n",
       "        52.4 ,  74.5 ,  78.5 ,  58.5 ,  80.7 ,  65.3 ,  67.9 ,  72.9 ,\n",
       "        75.4 ,  70.4 ,  64.8 ,  76.  ,  73.3 ,  54.  ,  59.4 ,  59.1 ,\n",
       "        68.4 ,  80.3 ,  77.  ,  58.  ,  59.2 ,  80.8 ,  76.2 ,  64.1 ,\n",
       "        77.3 ,  58.6 ,  74.  ,  78.2 ,  69.8 ,  75.4 ,  79.4 ,  77.9 ,\n",
       "        73.2 ,  67.9 ,  64.1 ,  72.3 ,  66.  ,  63.5 ,  74.3 ,  53.6 ,\n",
       "        80.6 ,  74.9 ,  78.7 ,  52.6 ,  53.4 ,  81.1 ,  74.  ,  65.5 ,\n",
       "        70.2 ,  45.1 ,  81.1 ,  82.  ,  76.1 ,  69.6 ,  60.4 ,  73.9 ,\n",
       "        69.9 ,  57.5 ,  70.3 ,  71.7 ,  76.8 ,  77.8 ,  67.2 ,  56.  ,\n",
       "        67.8 ,  75.6 ,  79.7 ,  78.3 ,  76.  ,  69.6 ,  63.4 ,  74.1 ,\n",
       "        74.1 ])"
      ]
     },
     "execution_count": 20,
     "metadata": {},
     "output_type": "execute_result"
    }
   ],
   "source": [
    "y"
   ]
  },
  {
   "cell_type": "code",
   "execution_count": 23,
   "metadata": {},
   "outputs": [
    {
     "data": {
      "text/plain": [
       "(161,)"
      ]
     },
     "execution_count": 23,
     "metadata": {},
     "output_type": "execute_result"
    }
   ],
   "source": [
    "y.shape"
   ]
  },
  {
   "cell_type": "markdown",
   "metadata": {},
   "source": [
    "### Plotting the results"
   ]
  },
  {
   "cell_type": "code",
   "execution_count": 28,
   "metadata": {},
   "outputs": [
    {
     "data": {
      "image/png": "[encoded data removed]",
      "text/plain": [
       "<matplotlib.figure.Figure at 0x239a4274748>"
      ]
     },
     "metadata": {},
     "output_type": "display_data"
    }
   ],
   "source": [
    "X = bmi_life_data['BMI'].values.reshape(-1,1) #gte X data\n",
    "y = bmi_life_data['Life expectancy'].values.reshape(-1,1) #get y data\n",
    "plt.xlabel('BMI') # add x axis label\n",
    "plt.ylabel('Life expectancy') # add y axis label\n",
    "plt.title('Life Expectancy Vs BMI Regression Model') #add the tile\n",
    "plt.scatter(X, y,color='g') # plot the points\n",
    "plt.plot(X, bmi_life_model.predict(X),color='k') #plot the predicted fitted line\n",
    "plt.show()"
   ]
  },
  {
   "cell_type": "markdown",
   "metadata": {},
   "source": [
    "### Resources"
   ]
  },
  {
   "cell_type": "markdown",
   "metadata": {},
   "source": [
    "R Squared Value : http://blog.minitab.com/blog/adventures-in-statistics-2/regression-analysis-how-do-i-interpret-r-squared-and-assess-the-goodness-of-fit\n",
    "Scikit Learn Linear Regression Documentation : http://scikit-learn.org/stable/modules/generated/sklearn.linear_model.LinearRegression.html"
   ]
  },
  {
   "cell_type": "code",
   "execution_count": null,
   "metadata": {
    "collapsed": true
   },
   "outputs": [],
   "source": []
  }
 ],
 "metadata": {
  "kernelspec": {
   "display_name": "Python 3",
   "language": "python",
   "name": "python3"
  },
  "language_info": {
   "codemirror_mode": {
    "name": "ipython",
    "version": 3
   },
   "file_extension": ".py",
   "mimetype": "text/x-python",
   "name": "python",
   "nbconvert_exporter": "python",
   "pygments_lexer": "ipython3",
   "version": "3.6.3"
  }
 },
 "nbformat": 4,
 "nbformat_minor": 2
}
